{
  "nbformat": 4,
  "nbformat_minor": 0,
  "metadata": {
    "colab": {
      "name": "Untitled1.ipynb",
      "provenance": [],
      "toc_visible": true,
      "mount_file_id": "1lBEJvpzNox9u2mOH9TiOVyYgMnukCxNa",
      "authorship_tag": "ABX9TyOzgkIq+5D4XnQBupRcptJA",
      "include_colab_link": true
    },
    "kernelspec": {
      "display_name": "Python 3",
      "name": "python3"
    }
  },
  "cells": [
    {
      "cell_type": "markdown",
      "metadata": {
        "id": "view-in-github",
        "colab_type": "text"
      },
      "source": [
        "<a href=\"https://colab.research.google.com/github/yac69/homeassistant-config/blob/master/Untitled1.ipynb\" target=\"_parent\"><img src=\"https://colab.research.google.com/assets/colab-badge.svg\" alt=\"Open In Colab\"/></a>"
      ]
    },
    {
      "cell_type": "code",
      "metadata": {
        "id": "4-fIoFc0u0iP"
      },
      "source": [
        ""
      ],
      "execution_count": 1,
      "outputs": []
    },
    {
      "cell_type": "markdown",
      "metadata": {
        "id": "qxO8AkPvu-UP"
      },
      "source": [
        "# Nouvelle section"
      ]
    },
    {
      "cell_type": "code",
      "metadata": {
        "id": "aYCV1ISzwDxj"
      },
      "source": [
        "import numpy as np\n",
        "import pandas as pd\n",
        "import matplotlib.pyplot as plt\n",
        "import time\n",
        "import matplotlib as mpl\n",
        "from sklearn.model_selection import train_test_split\n",
        "import xgboost as xgb"
      ],
      "execution_count": 2,
      "outputs": []
    },
    {
      "cell_type": "code",
      "metadata": {
        "colab": {
          "base_uri": "https://localhost:8080/",
          "height": 241
        },
        "id": "0HoFhHWPwIXU",
        "outputId": "17563020-f874-4c9e-eda7-ff30b5b0c120"
      },
      "source": [
        "df = pd.read_csv('/content/ML.csv')\n",
        "df.head()"
      ],
      "execution_count": 3,
      "outputs": [
        {
          "output_type": "execute_result",
          "data": {
            "text/html": [
              "<div>\n",
              "<style scoped>\n",
              "    .dataframe tbody tr th:only-of-type {\n",
              "        vertical-align: middle;\n",
              "    }\n",
              "\n",
              "    .dataframe tbody tr th {\n",
              "        vertical-align: top;\n",
              "    }\n",
              "\n",
              "    .dataframe thead th {\n",
              "        text-align: right;\n",
              "    }\n",
              "</style>\n",
              "<table border=\"1\" class=\"dataframe\">\n",
              "  <thead>\n",
              "    <tr style=\"text-align: right;\">\n",
              "      <th></th>\n",
              "      <th>STOCK_COUNT_DATE</th>\n",
              "      <th>RETAIL_OUTLET_NUMBER</th>\n",
              "      <th>BASE_PRODUCT_NUMBER</th>\n",
              "      <th>Year_week_number</th>\n",
              "      <th>stock_count_type</th>\n",
              "      <th>stock_count_qty</th>\n",
              "      <th>BOOK_STOCK_QUANTITY</th>\n",
              "      <th>SRM</th>\n",
              "      <th>SELLING_PRICE</th>\n",
              "      <th>last_stock_count_date</th>\n",
              "      <th>nb_days_last_audit</th>\n",
              "      <th>count_transactions</th>\n",
              "      <th>sum_sales_qty</th>\n",
              "      <th>sum_sales_retail</th>\n",
              "      <th>Sales_Class</th>\n",
              "      <th>Category</th>\n",
              "    </tr>\n",
              "  </thead>\n",
              "  <tbody>\n",
              "    <tr>\n",
              "      <th>0</th>\n",
              "      <td>2018-02-14 00:00:00</td>\n",
              "      <td>6419</td>\n",
              "      <td>83409007</td>\n",
              "      <td>201751</td>\n",
              "      <td>Stock Count</td>\n",
              "      <td>0</td>\n",
              "      <td>0</td>\n",
              "      <td>0</td>\n",
              "      <td>3</td>\n",
              "      <td>2017-11-21 00:00:00</td>\n",
              "      <td>85</td>\n",
              "      <td>3</td>\n",
              "      <td>3</td>\n",
              "      <td>12</td>\n",
              "      <td>NaN</td>\n",
              "      <td>NaN</td>\n",
              "    </tr>\n",
              "    <tr>\n",
              "      <th>1</th>\n",
              "      <td>2018-02-14 00:00:00</td>\n",
              "      <td>6419</td>\n",
              "      <td>83423208</td>\n",
              "      <td>201751</td>\n",
              "      <td>Stock Count</td>\n",
              "      <td>9</td>\n",
              "      <td>8</td>\n",
              "      <td>1</td>\n",
              "      <td>2</td>\n",
              "      <td>2018-02-04 00:00:00</td>\n",
              "      <td>10</td>\n",
              "      <td>5</td>\n",
              "      <td>6</td>\n",
              "      <td>12</td>\n",
              "      <td>Middle_Mover</td>\n",
              "      <td>PLANT BAKERY</td>\n",
              "    </tr>\n",
              "    <tr>\n",
              "      <th>2</th>\n",
              "      <td>2018-02-14 00:00:00</td>\n",
              "      <td>6419</td>\n",
              "      <td>83423738</td>\n",
              "      <td>201751</td>\n",
              "      <td>Stock Count</td>\n",
              "      <td>9</td>\n",
              "      <td>16</td>\n",
              "      <td>-7</td>\n",
              "      <td>1</td>\n",
              "      <td>2018-01-23 00:00:00</td>\n",
              "      <td>22</td>\n",
              "      <td>19</td>\n",
              "      <td>100</td>\n",
              "      <td>50</td>\n",
              "      <td>Middle_Mover</td>\n",
              "      <td>GROCERY</td>\n",
              "    </tr>\n",
              "    <tr>\n",
              "      <th>3</th>\n",
              "      <td>2018-02-14 00:00:00</td>\n",
              "      <td>6419</td>\n",
              "      <td>83434466</td>\n",
              "      <td>201751</td>\n",
              "      <td>Stock Count</td>\n",
              "      <td>0</td>\n",
              "      <td>0</td>\n",
              "      <td>0</td>\n",
              "      <td>7</td>\n",
              "      <td>2017-11-21 00:00:00</td>\n",
              "      <td>85</td>\n",
              "      <td>4</td>\n",
              "      <td>4</td>\n",
              "      <td>49</td>\n",
              "      <td>NaN</td>\n",
              "      <td>NaN</td>\n",
              "    </tr>\n",
              "    <tr>\n",
              "      <th>4</th>\n",
              "      <td>2018-02-14 00:00:00</td>\n",
              "      <td>6419</td>\n",
              "      <td>83435762</td>\n",
              "      <td>201751</td>\n",
              "      <td>Stock Count</td>\n",
              "      <td>0</td>\n",
              "      <td>0</td>\n",
              "      <td>0</td>\n",
              "      <td>0</td>\n",
              "      <td>2017-11-21 00:00:00</td>\n",
              "      <td>85</td>\n",
              "      <td>5</td>\n",
              "      <td>5</td>\n",
              "      <td>7</td>\n",
              "      <td>NaN</td>\n",
              "      <td>NaN</td>\n",
              "    </tr>\n",
              "  </tbody>\n",
              "</table>\n",
              "</div>"
            ],
            "text/plain": [
              "      STOCK_COUNT_DATE  RETAIL_OUTLET_NUMBER  ...   Sales_Class      Category\n",
              "0  2018-02-14 00:00:00                  6419  ...           NaN           NaN\n",
              "1  2018-02-14 00:00:00                  6419  ...  Middle_Mover  PLANT BAKERY\n",
              "2  2018-02-14 00:00:00                  6419  ...  Middle_Mover       GROCERY\n",
              "3  2018-02-14 00:00:00                  6419  ...           NaN           NaN\n",
              "4  2018-02-14 00:00:00                  6419  ...           NaN           NaN\n",
              "\n",
              "[5 rows x 16 columns]"
            ]
          },
          "metadata": {
            "tags": []
          },
          "execution_count": 3
        }
      ]
    },
    {
      "cell_type": "code",
      "metadata": {
        "colab": {
          "base_uri": "https://localhost:8080/",
          "height": 241
        },
        "id": "3PSQe1IDyYQK",
        "outputId": "9e472175-dd47-449b-add1-afc87dc8516d"
      },
      "source": [
        "df.drop('SRM', inplace=True, axis=1)\n",
        "df.drop('STOCK_COUNT_DATE', inplace=True, axis=1)\n",
        "df.drop('last_stock_count_date', inplace=True, axis=1)\n",
        "\n",
        "df['avg_sales'] = df.apply(lambda row: row.sum_sales_qty / row.nb_days_last_audit, axis=1)\n",
        "# shift column 'Name' to first position \n",
        "first_column = df.pop('stock_count_qty') \n",
        "df.insert(0, 'stock_count_qty', first_column)\n",
        "\n",
        "df.head()"
      ],
      "execution_count": 4,
      "outputs": [
        {
          "output_type": "execute_result",
          "data": {
            "text/html": [
              "<div>\n",
              "<style scoped>\n",
              "    .dataframe tbody tr th:only-of-type {\n",
              "        vertical-align: middle;\n",
              "    }\n",
              "\n",
              "    .dataframe tbody tr th {\n",
              "        vertical-align: top;\n",
              "    }\n",
              "\n",
              "    .dataframe thead th {\n",
              "        text-align: right;\n",
              "    }\n",
              "</style>\n",
              "<table border=\"1\" class=\"dataframe\">\n",
              "  <thead>\n",
              "    <tr style=\"text-align: right;\">\n",
              "      <th></th>\n",
              "      <th>stock_count_qty</th>\n",
              "      <th>RETAIL_OUTLET_NUMBER</th>\n",
              "      <th>BASE_PRODUCT_NUMBER</th>\n",
              "      <th>Year_week_number</th>\n",
              "      <th>stock_count_type</th>\n",
              "      <th>BOOK_STOCK_QUANTITY</th>\n",
              "      <th>SELLING_PRICE</th>\n",
              "      <th>nb_days_last_audit</th>\n",
              "      <th>count_transactions</th>\n",
              "      <th>sum_sales_qty</th>\n",
              "      <th>sum_sales_retail</th>\n",
              "      <th>Sales_Class</th>\n",
              "      <th>Category</th>\n",
              "      <th>avg_sales</th>\n",
              "    </tr>\n",
              "  </thead>\n",
              "  <tbody>\n",
              "    <tr>\n",
              "      <th>0</th>\n",
              "      <td>0</td>\n",
              "      <td>6419</td>\n",
              "      <td>83409007</td>\n",
              "      <td>201751</td>\n",
              "      <td>Stock Count</td>\n",
              "      <td>0</td>\n",
              "      <td>3</td>\n",
              "      <td>85</td>\n",
              "      <td>3</td>\n",
              "      <td>3</td>\n",
              "      <td>12</td>\n",
              "      <td>NaN</td>\n",
              "      <td>NaN</td>\n",
              "      <td>0.035294</td>\n",
              "    </tr>\n",
              "    <tr>\n",
              "      <th>1</th>\n",
              "      <td>9</td>\n",
              "      <td>6419</td>\n",
              "      <td>83423208</td>\n",
              "      <td>201751</td>\n",
              "      <td>Stock Count</td>\n",
              "      <td>8</td>\n",
              "      <td>2</td>\n",
              "      <td>10</td>\n",
              "      <td>5</td>\n",
              "      <td>6</td>\n",
              "      <td>12</td>\n",
              "      <td>Middle_Mover</td>\n",
              "      <td>PLANT BAKERY</td>\n",
              "      <td>0.600000</td>\n",
              "    </tr>\n",
              "    <tr>\n",
              "      <th>2</th>\n",
              "      <td>9</td>\n",
              "      <td>6419</td>\n",
              "      <td>83423738</td>\n",
              "      <td>201751</td>\n",
              "      <td>Stock Count</td>\n",
              "      <td>16</td>\n",
              "      <td>1</td>\n",
              "      <td>22</td>\n",
              "      <td>19</td>\n",
              "      <td>100</td>\n",
              "      <td>50</td>\n",
              "      <td>Middle_Mover</td>\n",
              "      <td>GROCERY</td>\n",
              "      <td>4.545455</td>\n",
              "    </tr>\n",
              "    <tr>\n",
              "      <th>3</th>\n",
              "      <td>0</td>\n",
              "      <td>6419</td>\n",
              "      <td>83434466</td>\n",
              "      <td>201751</td>\n",
              "      <td>Stock Count</td>\n",
              "      <td>0</td>\n",
              "      <td>7</td>\n",
              "      <td>85</td>\n",
              "      <td>4</td>\n",
              "      <td>4</td>\n",
              "      <td>49</td>\n",
              "      <td>NaN</td>\n",
              "      <td>NaN</td>\n",
              "      <td>0.047059</td>\n",
              "    </tr>\n",
              "    <tr>\n",
              "      <th>4</th>\n",
              "      <td>0</td>\n",
              "      <td>6419</td>\n",
              "      <td>83435762</td>\n",
              "      <td>201751</td>\n",
              "      <td>Stock Count</td>\n",
              "      <td>0</td>\n",
              "      <td>0</td>\n",
              "      <td>85</td>\n",
              "      <td>5</td>\n",
              "      <td>5</td>\n",
              "      <td>7</td>\n",
              "      <td>NaN</td>\n",
              "      <td>NaN</td>\n",
              "      <td>0.058824</td>\n",
              "    </tr>\n",
              "  </tbody>\n",
              "</table>\n",
              "</div>"
            ],
            "text/plain": [
              "   stock_count_qty  RETAIL_OUTLET_NUMBER  ...      Category  avg_sales\n",
              "0                0                  6419  ...           NaN   0.035294\n",
              "1                9                  6419  ...  PLANT BAKERY   0.600000\n",
              "2                9                  6419  ...       GROCERY   4.545455\n",
              "3                0                  6419  ...           NaN   0.047059\n",
              "4                0                  6419  ...           NaN   0.058824\n",
              "\n",
              "[5 rows x 14 columns]"
            ]
          },
          "metadata": {
            "tags": []
          },
          "execution_count": 4
        }
      ]
    },
    {
      "cell_type": "code",
      "metadata": {
        "colab": {
          "base_uri": "https://localhost:8080/"
        },
        "id": "gS1GN356was6",
        "outputId": "d23374c0-1347-4d25-bece-55ffec5b699c"
      },
      "source": [
        "print('Number of rows in dataset: {df.shape[0]}')\n",
        "print(df[df.columns[10]].value_counts())"
      ],
      "execution_count": 5,
      "outputs": [
        {
          "output_type": "stream",
          "text": [
            "Number of rows in dataset: {df.shape[0]}\n",
            "0       969963\n",
            "4        68952\n",
            "2        68383\n",
            "3        62671\n",
            "6        62434\n",
            "         ...  \n",
            "5861         1\n",
            "7060         1\n",
            "2967         1\n",
            "3815         1\n",
            "3265         1\n",
            "Name: sum_sales_retail, Length: 4816, dtype: int64\n"
          ],
          "name": "stdout"
        }
      ]
    },
    {
      "cell_type": "code",
      "metadata": {
        "colab": {
          "base_uri": "https://localhost:8080/"
        },
        "id": "djNudtzQwkg9",
        "outputId": "dd9de276-4ac4-469b-a270-8fbf4ec77edb"
      },
      "source": [
        "encoded_data = pd.get_dummies(df)\n",
        "encoded_data.head()\n",
        "encoded_data.info()"
      ],
      "execution_count": 6,
      "outputs": [
        {
          "output_type": "stream",
          "text": [
            "<class 'pandas.core.frame.DataFrame'>\n",
            "RangeIndex: 2625378 entries, 0 to 2625377\n",
            "Data columns (total 36 columns):\n",
            " #   Column                                Dtype  \n",
            "---  ------                                -----  \n",
            " 0   stock_count_qty                       int64  \n",
            " 1   RETAIL_OUTLET_NUMBER                  int64  \n",
            " 2   BASE_PRODUCT_NUMBER                   int64  \n",
            " 3   Year_week_number                      int64  \n",
            " 4   BOOK_STOCK_QUANTITY                   int64  \n",
            " 5   SELLING_PRICE                         int64  \n",
            " 6   nb_days_last_audit                    int64  \n",
            " 7   count_transactions                    int64  \n",
            " 8   sum_sales_qty                         int64  \n",
            " 9   sum_sales_retail                      int64  \n",
            " 10  avg_sales                             float64\n",
            " 11  stock_count_type_Auto Negative Reset  uint8  \n",
            " 12  stock_count_type_Gap Scan Reset       uint8  \n",
            " 13  stock_count_type_Stock Count          uint8  \n",
            " 14  Sales_Class_Fast_Mover                uint8  \n",
            " 15  Sales_Class_Middle_Mover              uint8  \n",
            " 16  Sales_Class_Slow_Mover                uint8  \n",
            " 17  Category_BAKERY                       uint8  \n",
            " 18  Category_CLOTHING                     uint8  \n",
            " 19  Category_FISH COUNTER                 uint8  \n",
            " 20  Category_FROZEN FOOD                  uint8  \n",
            " 21  Category_GROCERY                      uint8  \n",
            " 22  Category_HARDWARE                     uint8  \n",
            " 23  Category_HEALTH & BEAUTY              uint8  \n",
            " 24  Category_HORTICULTURE                 uint8  \n",
            " 25  Category_HOUSEHOLD                    uint8  \n",
            " 26  Category_MEAT                         uint8  \n",
            " 27  Category_NEWS/MAGS/OTHER              uint8  \n",
            " 28  Category_PLANT BAKERY                 uint8  \n",
            " 29  Category_POULTRY                      uint8  \n",
            " 30  Category_PRODUCE                      uint8  \n",
            " 31  Category_PROVN CABINET                uint8  \n",
            " 32  Category_PROVN COUNTER                uint8  \n",
            " 33  Category_TESCO MOBILE                 uint8  \n",
            " 34  Category_TOBACCO                      uint8  \n",
            " 35  Category_WINES & SPIRITS              uint8  \n",
            "dtypes: float64(1), int64(10), uint8(25)\n",
            "memory usage: 282.9 MB\n"
          ],
          "name": "stdout"
        }
      ]
    },
    {
      "cell_type": "code",
      "metadata": {
        "colab": {
          "base_uri": "https://localhost:8080/"
        },
        "id": "TTy8LFH6wqCO",
        "outputId": "ae3fb3f1-a24b-482c-f492-11d0c014e5fd"
      },
      "source": [
        "corrs = encoded_data.corr()['stock_count_qty']\n",
        "columns = corrs[corrs > .1].index\n",
        "corrs = corrs.filter(columns)\n",
        "corrs"
      ],
      "execution_count": 7,
      "outputs": [
        {
          "output_type": "execute_result",
          "data": {
            "text/plain": [
              "stock_count_qty        1.000000\n",
              "BOOK_STOCK_QUANTITY    0.807646\n",
              "sum_sales_qty          0.343309\n",
              "avg_sales              0.382583\n",
              "Name: stock_count_qty, dtype: float64"
            ]
          },
          "metadata": {
            "tags": []
          },
          "execution_count": 7
        }
      ]
    },
    {
      "cell_type": "code",
      "metadata": {
        "id": "UFUdn6k_1C28"
      },
      "source": [
        ""
      ],
      "execution_count": 7,
      "outputs": []
    },
    {
      "cell_type": "code",
      "metadata": {
        "colab": {
          "base_uri": "https://localhost:8080/"
        },
        "id": "NbXpLSID1-3a",
        "outputId": "c2327d1d-461a-43b6-f6f9-f2f4a3830034"
      },
      "source": [
        "%%time\n",
        "X = encoded_data.iloc[:, 1:36]\n",
        "Y = encoded_data.iloc[:, 0:1]\n",
        "headers = list(X)\n",
        "train_X, test_X, train_Y, test_Y = train_test_split(X, Y, test_size=0.1, random_state=0)\n",
        "\n",
        "\n",
        "\n",
        "\n",
        "\n",
        "model = xgb.XGBClassifier(max_depth=4,\n",
        "                        subsample=0.9,\n",
        "                        objective='binary:logistic',\n",
        "                        n_estimators=200,\n",
        "                        learning_rate = 0.1)\n",
        "eval_set = [(train_X, train_Y)]\n",
        "model.fit(train_X, train_Y.values.ravel(), early_stopping_rounds=10, eval_metric=[\"error\", \"logloss\"], eval_set=eval_set, verbose=True)\n"
      ],
      "execution_count": null,
      "outputs": [
        {
          "output_type": "stream",
          "text": [
            "/usr/local/lib/python3.7/dist-packages/sklearn/preprocessing/_label.py:268: DataConversionWarning: A column-vector y was passed when a 1d array was expected. Please change the shape of y to (n_samples, ), for example using ravel().\n",
            "  y = column_or_1d(y, warn=True)\n"
          ],
          "name": "stderr"
        }
      ]
    },
    {
      "cell_type": "code",
      "metadata": {
        "id": "SRycKnqgyRSn"
      },
      "source": [
        ""
      ],
      "execution_count": null,
      "outputs": []
    }
  ]
}